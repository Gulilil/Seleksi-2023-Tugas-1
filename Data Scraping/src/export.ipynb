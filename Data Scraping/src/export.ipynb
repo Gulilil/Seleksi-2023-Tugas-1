{
 "cells": [
  {
   "cell_type": "code",
   "execution_count": 8,
   "metadata": {},
   "outputs": [],
   "source": [
    "# Import libraries\n",
    "import mysql.connector"
   ]
  },
  {
   "cell_type": "code",
   "execution_count": 9,
   "metadata": {},
   "outputs": [],
   "source": [
    "def printList(arr):\n",
    "    for i in arr:\n",
    "        print(i)"
   ]
  },
  {
   "cell_type": "code",
   "execution_count": 10,
   "metadata": {},
   "outputs": [
    {
     "name": "stdout",
     "output_type": "stream",
     "text": [
      "Error while connecting to MySQL\n"
     ]
    }
   ],
   "source": [
    "# Establish connection to MySQL and create Database\n",
    "\n",
    "try:\n",
    "    db = mysql.connector.connect(host =\"localhost\",\n",
    "                                user = \"root\",\n",
    "                               password=\"juancs123\")\n",
    "    c = db.cursor()\n",
    "\n",
    "    c.execute(\"CREATE DATABASE seleksi_basdat\")\n",
    "\n",
    "    db.close()\n",
    "    \n",
    "except:\n",
    "    print(\"Error while connecting to MySQL\")\n"
   ]
  },
  {
   "cell_type": "code",
   "execution_count": 11,
   "metadata": {},
   "outputs": [],
   "source": [
    "# Use specific database\n",
    "db = mysql.connector.connect(host=\"localhost\", user=\"root\", password=\"juancs123\", database=\"seleksi_basdat\")\n",
    "\n",
    "c = db.cursor()\n",
    "c.execute(\"ALTER DATABASE seleksi_basdat CHARACTER SET = utf8mb4 COLLATE = utf8mb4_unicode_ci\")"
   ]
  },
  {
   "cell_type": "code",
   "execution_count": 12,
   "metadata": {},
   "outputs": [],
   "source": [
    "# Create tables\n",
    "product_create = \"\"\" CREATE TABLE `seleksi_basdat`.`product` (\n",
    "    `id` INT NOT NULL AUTO_INCREMENT,\n",
    "    `listing_id` BIGINT NOT NULL,\n",
    "    `title` VARCHAR(255) NOT NULL,\n",
    "    `type` VARCHAR(50) NOT NULL,\n",
    "    `available` VARCHAR(50),\n",
    "    `sold` INT,\n",
    "    `return` VARCHAR(50),\n",
    "    `seller` VARCHAR(100) NOT NULL,\n",
    "    `condition` VARCHAR(50) NOT NULL,\n",
    "    PRIMARY KEY (`id`)\n",
    ")\"\"\"\n",
    "\n",
    "price_create = \"\"\" CREATE TABLE `seleksi_basdat`.`price` (\n",
    "    `id` INT REFERENCES `product`(`id`),\n",
    "    `price_original_currency` VARCHAR(10) NOT NULL,\n",
    "    `price_original_value` FLOAT NOT NULL,\n",
    "    `price_idr` FLOAT NOT NULL,\n",
    "    PRIMARY KEY (`id`)\n",
    ")\"\"\"\n",
    "\n",
    "shipment_create = \"\"\" CREATE TABLE `seleksi_basdat`.`shipment` (\n",
    "    `id` INT REFERENCES `product`(`id`),\n",
    "    `shipping_availability` BIT NOT NULL,\n",
    "    `shipping_price_currency` VARCHAR(10),\n",
    "    `shipping_price_value` FLOAT,\n",
    "    `shipping_location` VARCHAR(100),\n",
    "    PRIMARY KEY (`id`)\n",
    ")\"\"\"\n",
    "\n",
    "c = db.cursor()\n",
    "c.execute(product_create)\n",
    "c = db.cursor()\n",
    "c.execute(price_create)\n",
    "c = db.cursor()\n",
    "c.execute(shipment_create)\n"
   ]
  },
  {
   "cell_type": "code",
   "execution_count": 13,
   "metadata": {},
   "outputs": [],
   "source": [
    "# import preprocessed data as dataframe\n",
    "import pandas as pd\n",
    "import numpy as np\n",
    "import os\n",
    "\n",
    "# import the json files\n",
    "dir = os.getcwd()\n",
    "product = pd.read_json(dir[:-3]+\"data\\data_product.json\", orient=\"index\")\n",
    "price = pd.read_json(dir[:-3]+\"data\\data_price.json\", orient=\"index\")\n",
    "shipment = pd.read_json(dir[:-3]+\"data\\data_shipment.json\", orient=\"index\")\n"
   ]
  },
  {
   "cell_type": "code",
   "execution_count": 14,
   "metadata": {},
   "outputs": [
    {
     "name": "stdout",
     "output_type": "stream",
     "text": [
      "(1, 354907151520, 'Microsoft 13\" Surface Pro 8 (i5, 8GB RAM, 256GB SSD, Graphite) with Surface Pen', 'Laptops & Netbooks', 'Limited quantity ', 1, '30 days ', 'Always Deals Store', 'New')\n",
      "(2, 333563280818, 'CHUWI Laptop HeroBook GemiBook CoreBook Pro/Plus/X Intel Core Laptop Windows', 'Laptops & Netbooks', 'Limited quantity ', 32, '30 days ', 'CHUWI Official Store（chuwi2018）', 'New')\n",
      "(3, 333996205343, 'CHUWI HeroBook Pro 14.1\" Windows 10 Laptop Intel N4020 Laptop 8+256GB', 'Laptops & Netbooks', 'Limited quantity ', 14, '30 days ', 'CHUWI Official Store（chuwi2018）', 'New')\n",
      "(4, 295671743764, 'HP Omen 17.3\" Gaming Notebook QHD 165Hz i9-13900HX 32GB RAM 1TB SSD RTX 4090', 'Laptops & Netbooks', 'Limited quantity ', 92, '30 days ', 'Antonline', 'New')\n",
      "(5, 285185433173, 'Lenovo ThinkPad P1 Gen 5 15.6\" 2022 2K 2.3GHz i7-12700H 32GB 1TB SSD - RTX A2000', 'Laptops & Netbooks', 'Limited quantity ', 5, '30 days ', 'ItsWorthMore', 'Excellent - Refurbished')\n"
     ]
    }
   ],
   "source": [
    "# Insert data to product table\n",
    "c = db.cursor()\n",
    "\n",
    "product_insert = \"\"\" INSERT INTO `seleksi_basdat`.`product` \n",
    "    (`listing_id`, `title`, `type`, `available`, `sold`, `return`, `seller`, `condition`)\n",
    "    VALUES (%s, %s, %s, %s, %s, %s, %s, %s)\n",
    "\"\"\"\n",
    "\n",
    "data = list()\n",
    "\n",
    "for i in range(len(product)):\n",
    "    sold_attrib = product.iloc[i,4]\n",
    "    if ((sold_attrib is not None) and (not pd.isna(sold_attrib))):\n",
    "        sold_attrib = int(sold_attrib)\n",
    "    elif (pd.isna(sold_attrib)):\n",
    "        sold_attrib = None\n",
    "    tempTuple = (int(product.iloc[i,0]), product.iloc[i,1], product.iloc[i,2], product.iloc[i,3], sold_attrib, product.iloc[i,5], product.iloc[i,6], product.iloc[i,7])\n",
    "    data.append(tempTuple)\n",
    "\n",
    "\n",
    "c.executemany(product_insert, data)\n",
    "db.commit()\n",
    "\n",
    "# For checking\n",
    "c = db.cursor()\n",
    "c.execute(\"\"\" SELECT * FROM PRODUCT LIMIT 5\"\"\")\n",
    "printList(c)"
   ]
  },
  {
   "cell_type": "code",
   "execution_count": 15,
   "metadata": {},
   "outputs": [
    {
     "name": "stdout",
     "output_type": "stream",
     "text": [
      "(1, 'US $', 669.99, 9999850.0)\n",
      "(2, 'EUR ', 239.99, 4027000.0)\n",
      "(3, 'EUR ', 199.99, 3355800.0)\n",
      "(4, 'US $', 2499.99, 37313300.0)\n",
      "(5, 'US $', 1399.99, 20895400.0)\n"
     ]
    }
   ],
   "source": [
    "# Insert data to price table\n",
    "\n",
    "price_insert = \"\"\" INSERT INTO `seleksi_basdat`.`price` \n",
    "    (`id`, `price_original_currency`, `price_original_value`, `price_idr`)\n",
    "    VALUES (%s, %s, %s, %s)\n",
    "\"\"\"\n",
    "\n",
    "get_product_id = \"\"\" SELECT `id` FROM product \n",
    "    WHERE product.listing_id = %s \"\"\"\n",
    "\n",
    "data = list()\n",
    "\n",
    "for i in range(len(price)):\n",
    "    c = db.cursor()\n",
    "    c.execute(get_product_id, (int(product.iloc[i,0]), ))\n",
    "    id = c.fetchall()[0][0]\n",
    "\n",
    "    tempTuple = (id, price.iloc[i,0], price.iloc[i,1], price.iloc[i,2])\n",
    "    data.append(tempTuple)\n",
    "\n",
    "c = db.cursor()\n",
    "c.executemany(price_insert, data)\n",
    "db.commit()\n",
    "\n",
    "# For checking\n",
    "c = db.cursor()\n",
    "c.execute(\"\"\" SELECT * FROM PRICE LIMIT 5\"\"\")\n",
    "printList(c)"
   ]
  },
  {
   "cell_type": "code",
   "execution_count": 17,
   "metadata": {},
   "outputs": [
    {
     "name": "stdout",
     "output_type": "stream",
     "text": [
      "(1, 1, 'US $', 54.46, 'Avenel, New Jersey, United States')\n",
      "(2, 1, None, 0.0, None)\n",
      "(3, 1, None, 0.0, None)\n",
      "(4, 0, None, None, 'Atlanta, Georgia, United States')\n",
      "(5, 1, 'US $', 168.15, 'Sanford, Florida, United States')\n"
     ]
    }
   ],
   "source": [
    "# Insert data to shipment table\n",
    "shipment_insert = \"\"\" INSERT INTO `seleksi_basdat`.`shipment` \n",
    "    (`id`, `shipping_availability`, `shipping_price_currency`, `shipping_price_value`, `shipping_location`)\n",
    "    VALUES (%s, %s, %s, %s, %s)\n",
    "\"\"\"\n",
    "\n",
    "get_product_id = \"\"\" SELECT `id` FROM product \n",
    "    WHERE product.listing_id = %s \"\"\"\n",
    "\n",
    "data = list()\n",
    "\n",
    "for i in range(len(shipment)):\n",
    "    c = db.cursor()\n",
    "    c.execute(get_product_id, (int(product.iloc[i,0]), ))\n",
    "    id = c.fetchall()[0][0]\n",
    "\n",
    "    if (shipment.iloc[i,0]):\n",
    "        availability = 1\n",
    "    else :\n",
    "        availability = 0\n",
    "\n",
    "    ship_price = shipment.iloc[i,2]\n",
    "    if (pd.isna(ship_price)):\n",
    "        ship_price = None\n",
    "\n",
    "    tempTuple = (id, availability, shipment.iloc[i,1], ship_price, shipment.iloc[i,3])\n",
    "    data.append(tempTuple)\n",
    "\n",
    "\n",
    "c = db.cursor()\n",
    "c.executemany(shipment_insert, data)\n",
    "db.commit()\n",
    "\n",
    "# For checking\n",
    "c = db.cursor()\n",
    "c.execute(\"\"\" SELECT * FROM SHIPMENT LIMIT 5\"\"\")\n",
    "printList(c)"
   ]
  }
 ],
 "metadata": {
  "kernelspec": {
   "display_name": "Python 3",
   "language": "python",
   "name": "python3"
  },
  "language_info": {
   "codemirror_mode": {
    "name": "ipython",
    "version": 3
   },
   "file_extension": ".py",
   "mimetype": "text/x-python",
   "name": "python",
   "nbconvert_exporter": "python",
   "pygments_lexer": "ipython3",
   "version": "3.11.3"
  },
  "orig_nbformat": 4
 },
 "nbformat": 4,
 "nbformat_minor": 2
}
